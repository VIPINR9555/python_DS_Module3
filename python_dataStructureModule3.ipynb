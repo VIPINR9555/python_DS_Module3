{
 "cells": [
  {
   "cell_type": "code",
   "execution_count": null,
   "id": "587fe885-9910-4c26-94f6-9e000b71bd84",
   "metadata": {},
   "outputs": [],
   "source": [
    "                                         ## PYTHON_DATA STRUCTURE_MODULE 3##"
   ]
  },
  {
   "cell_type": "code",
   "execution_count": null,
   "id": "f9de89b9-1fd1-4938-b7de-d37694fdaf9a",
   "metadata": {},
   "outputs": [],
   "source": [
    "Q1  - What are data structures, and why are they important?\n",
    "Ans - The way of organization and sorting the data so that it can access and manuplicate effeciently.\n",
    "      It is important due to-:\n",
    "      1. Efficient Data Management\n",
    "      2. Improved Performance \n",
    "      3. Scalability\n",
    "      4. Code Reusability \n",
    "      5. Problem-Solving\n"
   ]
  },
  {
   "cell_type": "code",
   "execution_count": null,
   "id": "deb93fe4-5639-452a-b9c2-2fbf212bf3c9",
   "metadata": {},
   "outputs": [],
   "source": [
    "Q2  - Explain the difference between mutable and immutable data types with examples?\n",
    "Ans - Mutable data types are those that can be modified or changed after they are created. For example-\n",
    "      my_list = [1, 2, 3]\n",
    "      my_list[0] = 10\n",
    "      print(my_list) \n",
    "      # Output: [10, 2, 3]\n",
    "\n",
    "      Immutable data types are those that cannot be modified or changed after they are created. For example-\n",
    "      my_string = \"hello\"\n",
    "      my_string[0] = \"H\"\n",
    "      # This will raise a TypeError\n",
    "      # Output: TypeError: 'str' object does not support item assignment"
   ]
  },
  {
   "cell_type": "code",
   "execution_count": null,
   "id": "2a780f27-d702-4a86-943e-fe6aa53f48d0",
   "metadata": {},
   "outputs": [],
   "source": [
    "Q3  - What are the main differences between lists and tuples in Python?\n",
    "      Lists: Mutable, meaning they can be modified after creation.\n",
    "      Tuples: Immutable, meaning they cannot be modified after creation.\n"
   ]
  },
  {
   "cell_type": "code",
   "execution_count": null,
   "id": "a98522ab-44ed-41d0-b9fe-b7c84d58d01d",
   "metadata": {},
   "outputs": [],
   "source": [
    "Q4  - Describe how dictionaries store data?\n",
    "      Dictionaries store data in a key-value pair format, using a hash table data structure. For example\n",
    "      dict = {'name': 'John', 'age': 30}\n"
   ]
  },
  {
   "cell_type": "code",
   "execution_count": null,
   "id": "e744f4cc-3ee6-4b37-a326-ba483da8f4ce",
   "metadata": {},
   "outputs": [],
   "source": [
    "Q5  - Why might you use a set instead of a list in Python?\n",
    "      Sets are a more efficient and readable data structure than lists when you need to store unique elements,\n",
    "      perform membership testing, or execute set operations."
   ]
  },
  {
   "cell_type": "code",
   "execution_count": null,
   "id": "165f05e4-0084-463c-bf8a-33e4ee1f64dd",
   "metadata": {},
   "outputs": [],
   "source": [
    "Q6  - What is a string in Python, and how is it different from a list?\n",
    "      Python, a string is a sequence of characters, such as letters, numbers, and symbols. \n",
    "\n",
    "      Here are the key differences between strings and lists in Python:\n",
    "\n",
    "      #Immutability\n",
    "      Strings are immutable, meaning they cannot be changed after creation.\n",
    "      Lists are mutable, meaning they can be modified after creation.\n",
    "\n",
    "     #Syntax\n",
    "     Strings are defined using quotes (single, double, or triple).\n",
    "     Lists are defined using square brackets [].\n"
   ]
  },
  {
   "cell_type": "code",
   "execution_count": null,
   "id": "da829258-ce01-4ccb-a3fb-753af6f3f131",
   "metadata": {},
   "outputs": [],
   "source": [
    "Q7  - How do tuples ensure data integrity in Python?\n",
    "Ans - Tuples are immutable, meaning their contents cannot be modified after creation. This ensures that once a\n",
    "      tuple is created, its data remains consistent and cannot be altered accidentally or maliciously.\n",
    " "
   ]
  },
  {
   "cell_type": "code",
   "execution_count": null,
   "id": "bd28a44c-84c1-4da7-b777-68d1ab56af3e",
   "metadata": {},
   "outputs": [],
   "source": [
    "Q8  - What is a hash table, and how does it relate to dictionaries in Python?\n",
    "Ans - A hash table is a data structure that stores key-value pairs in a way that allows for efficient lookup,\n",
    "      insertion, and deletion of elements. \n",
    "      In Python, dictionaries are implemented using hash tables. When you create a dictionary, Python creates a \n",
    "      hash table behind the scenes to store the key-value pairs.\n"
   ]
  },
  {
   "cell_type": "code",
   "execution_count": null,
   "id": "90a8103d-d02a-4016-aecb-22f9c63d4520",
   "metadata": {},
   "outputs": [],
   "source": [
    "Q9  - Can lists contain different data types in Python?\n",
    "      Yes, lists in Python can contain different data types. This is one of the key features of Python lists. \n",
    "      You can store a mix of data types, such as integers, floats, strings, booleans, lists, dictionaries, and \n",
    "      even custom objects.\n"
   ]
  },
  {
   "cell_type": "code",
   "execution_count": null,
   "id": "b5f8d2a5-a3cd-4bd0-82a2-7a3cde3d6c36",
   "metadata": {},
   "outputs": [],
   "source": [
    "Q10 - Explain why strings are immutable in Python?\n",
    "Ans - In Python, strings are immutable, meaning they cannot be changed after they are created. This is a design\n",
    "      decision made by the creators of Python, and it has several benefits. For example-\n",
    "      my_string = \"hello\"\n",
    "      my_string[0] = \"H\"\n",
    "      # This will raise a TypeError\n",
    "      # Output: TypeError: 'str' object does not support item assignment"
   ]
  },
  {
   "cell_type": "code",
   "execution_count": null,
   "id": "542eb6c1-89a0-442c-834d-e1e3dd8a71d3",
   "metadata": {},
   "outputs": [],
   "source": [
    "Q11 - What advantages do dictionaries offer over lists for certain tasks?\n",
    "Ans - 1. Fast Lookups: \n",
    "      2. Efficient Data Retrieval: \n",
    "      3. Flexible Data Structure\n",
    "      4. Easy Data Manipulation\n",
    "      5. Improved Code Readability\n",
    "      6. Reduced Errors:\n",
    "\n"
   ]
  },
  {
   "cell_type": "code",
   "execution_count": null,
   "id": "16459787-9d5e-4a21-aa22-4ab7a245b4fe",
   "metadata": {},
   "outputs": [],
   "source": [
    "Q12 - Describe a scenario where using a tuple would be preferable over a list?\n",
    "      project that involves storing and manipulating dates. You need to represent a date as a collection of values\n",
    "      (year, month, day).\n",
    "      This scenario, using a tuple to represent a date is preferable over a list for several reasons:\n",
    "      1. Immutability\n",
    "      2. Code Readability\n",
    "      3. Performance\n",
    "\n",
    "      Here's an example of using a tuple to represent a date:\n",
    "\n",
    "      date = (2022, 12, 15)\n",
    "\n",
    "      # Accessing date components\n",
    "      year, month, day = date\n",
    "      print(f\"Year: {year}, Month: {month}, Day: {day}\")\n",
    "\n",
    "      # Attempting to modify a date component will raise an error\n",
    "      date[0] = 2023\n",
    "      except TypeError:\n",
    "      print(\"Tuples are immutable!\")\n",
    "\n"
   ]
  },
  {
   "cell_type": "code",
   "execution_count": null,
   "id": "9f7c82b3-6452-4108-ac69-74434bcab077",
   "metadata": {},
   "outputs": [],
   "source": [
    "Q13 - How do sets handle duplicate values in Python?\n",
    "Ans - In Python, sets automatically eliminate duplicate values. When you add a duplicate value to a set, it is ignored,\n",
    "      and the set remains unchanged.\n",
    "\n",
    "      Here's an example:\n",
    "      my_set = {1, 2, 3, 2, 4, 4, 5}\n",
    "      print(my_set) \n",
    "      # Output: {1, 2, 3, 4, 5}\n",
    "\n"
   ]
  },
  {
   "cell_type": "code",
   "execution_count": null,
   "id": "3b13ef10-2c5f-45b1-be63-b6486c7c153b",
   "metadata": {},
   "outputs": [],
   "source": [
    "Q14 - How does the “in” keyword work differently for lists and dictionaries?\n",
    "      Lists-:\n",
    "      For lists, the in keyword checks if a specific value is present in the list. It iterates through the list and returns True if \n",
    "      the value is found, and False otherwise.\n",
    "\n",
    "      Dictionaries-:\n",
    "      For dictionaries, the in keyword checks if a specific key is present in the dictionary. It does not check for values. It returns\n",
    "      True if the key is found, and False otherwise.\n",
    "\n",
    "      Here's an example:\n",
    "\n",
    "\n",
    "      # List example\n",
    "      my_list = [1, 2, 3, 4, 5]\n",
    "      print(3 in my_list)\n",
    "      # Output: True\n",
    "      print(6 in my_list)\n",
    "      # Output: False\n",
    "\n",
    "      # Dictionary example\n",
    "      my_dict = {\"name\": \"John\", \"age\": 30}\n",
    "      print(\"name\" in my_dict) \n",
    "      # Output: True\n",
    "      print(\"city\" in my_dict)  \n",
    "      # Output: False\n",
    "      print(\"John\" in my_dict)\n",
    "      # Output: False (because \"John\" is a value, not a key)\n",
    "\n"
   ]
  },
  {
   "cell_type": "code",
   "execution_count": null,
   "id": "1ed2ab51-e1ca-4a73-9285-d45d3b5f07bd",
   "metadata": {},
   "outputs": [],
   "source": [
    "Q15 - Can you modify the elements of a tuple? Explain why or why not?\n",
    "      No, you cannot modify the elements of a tuple in Python. Tuples are immutable, meaning their contents cannot be changed \n",
    "      after they are created.\n",
    "\n",
    "      Here's why:\n",
    "\n",
    "      1. Immutable by design\n",
    "      2. Hashability\n",
    "      3. Thread safety\n",
    "      4. Performance\n",
    "\n",
    "      If you try to modify a tuple, you'll get a TypeError. For example:\n",
    "\n",
    "\n",
    "      my_tuple = (1, 2, 3)\n",
    "      my_tuple[0] = 10\n",
    "      print(\"Tuples are immutable!\")\n",
    "\n",
    "\n",
    "      If you need to modify a collection of values, consider using a list instead of a tuple. Lists are mutable, meaning their\n",
    "      contents can be changed after they are created.\n",
    "    \n",
    "     "
   ]
  },
  {
   "cell_type": "code",
   "execution_count": null,
   "id": "486c3985-d048-4f14-a92e-6883775fbf52",
   "metadata": {},
   "outputs": [],
   "source": [
    "Q16 - What is a nested dictionary, and give an example of its use case? \n",
    "      A nested dictionary is a dictionary that contains another dictionary as a value. This allows you to store complex, hierarchical\n",
    "      data structures in a single dictionary.\n",
    "      Here's an example of a nested dictionary:\n",
    "\n",
    "\n",
    "student_grades = {\n",
    "    \"Math\": {\n",
    "        \"John\": 85,\n",
    "        \"Jane\": 90,\n",
    "        \"Bob\": 78\n",
    "    },\n",
    "    \"Science\": {\n",
    "        \"John\": 90,\n",
    "        \"Jane\": 85,\n",
    "        \"Bob\": 92\n",
    "    },\n",
    "    \"English\": {\n",
    "        \"John\": 78,\n",
    "        \"Jane\": 92,\n",
    "        \"Bob\": 85\n",
    "    }\n",
    "}\n",
    " \n",
    "      In this example, the student_grades dictionary contains three keys: \"Math\", \"Science\", and \"English\". The values associated\n",
    "      with these keys are themselves dictionaries, which contain the grades for each student in the corresponding subject.\n"
   ]
  },
  {
   "cell_type": "code",
   "execution_count": null,
   "id": "5a6f782b-c342-4b77-82f6-bd0a95e280ea",
   "metadata": {},
   "outputs": [],
   "source": [
    "Q17 - Describe the time complexity of accessing elements in a dictionary?\n",
    "      The time complexity of accessing elements in a dictionary in Python is O(1) on average. This is because dictionaries\n",
    "      in Python are implemented as hash tables, which allow for constant-time lookups under typical conditions.\n"
   ]
  },
  {
   "cell_type": "code",
   "execution_count": null,
   "id": "fb912ce5-fdd1-4d0f-aa25-9dd914200262",
   "metadata": {},
   "outputs": [],
   "source": [
    "Q18 - In what situations are lists preferred over dictionaries?\n",
    "      Lists are preferred over dictionaries in the following situations:\n",
    "\n",
    "      1. Ordered Data\n",
    "      2. Indexed Access \n",
    "      3. Sequential Processing\n",
    "      4. Insertion and Deletion\n",
    "      5. Homogeneous Data\n",
    "      6. Performance-Critical Code\n",
    "      7. Simple Data Structures"
   ]
  },
  {
   "cell_type": "code",
   "execution_count": null,
   "id": "04e0a950-0c13-496e-9a05-5eee36007fdc",
   "metadata": {},
   "outputs": [],
   "source": [
    "Q19 - Why are dictionaries considered unordered, and how does that affect data retrieval?\n",
    "      Dictionaries in Python are considered unordered because they do not maintain the insertion order of key-value pairs.\n",
    "      This is because dictionaries are implemented as hash tables, which are designed for fast lookups, insertions, and deletions,\n",
    "      but not for maintaining a specific order.\n",
    "\n",
    "      The unordered nature of dictionaries affects data retrieval in the following ways:\n",
    "      1. No guaranteed order\n",
    "      2. No indexing\n",
    "      3. Random iteration order\n",
    "\n",
    "\n",
    "      "
   ]
  },
  {
   "cell_type": "code",
   "execution_count": null,
   "id": "758ce42d-9185-47cf-9a4a-dc7ad7dceb43",
   "metadata": {},
   "outputs": [],
   "source": [
    "Q20 - Explain the difference between a list and a dictionary in terms of data retrieval?\n",
    "      Lists:\n",
    "      1. Indexed access: Lists allow you to access elements by their index (position in the list). You can use square brackets []\n",
    "      to access an element at a specific index.\n",
    "      2. Sequential access: Lists also allow you to access elements sequentially using a for loop or while loop.\n",
    "      3. Order matters: The order of elements in a list matters, as you can access elements by their index.\n",
    "\n",
    "      Dictionaries:\n",
    "\n",
    "     1. Key-based access: Dictionaries allow you to access values by their corresponding keys. You can use square brackets [] \n",
    "     to access a value by its key.\n",
    "     2. Random access: Dictionaries allow you to access values randomly using their keys.\n",
    "     3. Order doesn't matter: The order of key-value pairs in a dictionary doesn't matter, as you can access values by their keys.\n"
   ]
  },
  {
   "cell_type": "code",
   "execution_count": null,
   "id": "def6e4d0-80cb-45a3-baa2-9046e0d6d56c",
   "metadata": {},
   "outputs": [],
   "source": [
    "                                                              ##PRACTICAL##"
   ]
  },
  {
   "cell_type": "code",
   "execution_count": null,
   "id": "722ae3ab-5ed2-4256-9fe0-c405ba2c76cd",
   "metadata": {},
   "outputs": [],
   "source": [
    "Q1  - Write a code to create a string with your name and print it?\n",
    "      my_name = \"VIPIN_RAWAT\"\n",
    "\n",
    "     # Print the string\n",
    "     print(my_name)"
   ]
  },
  {
   "cell_type": "code",
   "execution_count": null,
   "id": "9f6d6889-5b77-401c-8c4a-8f965a560a9d",
   "metadata": {},
   "outputs": [],
   "source": [
    "Q2  - Write a code to find the length of the string \"Hello World\"?\n",
    "     string = \"Hello World\"                   \n",
    "     length = len(string)\n",
    "     print(\"The length of the string is:\", length)\n",
    "     #OUT - The length of the string is: 11\n"
   ]
  },
  {
   "cell_type": "code",
   "execution_count": null,
   "id": "9b931b62-9e75-46d6-9c87-c224b3062883",
   "metadata": {},
   "outputs": [],
   "source": [
    "Q3  - Write a code to slice the first 3 characters from the string \"Python Programming\"?\n",
    "      string = \"Python Programming\"\n",
    "      sliced_string = string[:3]\n",
    "      print(\"The first 3 characters are:\", sliced_string)\n",
    "      #OUT - The first 3 characters are: Pyt"
   ]
  },
  {
   "cell_type": "code",
   "execution_count": null,
   "id": "cc97693a-cbe3-4d52-b3de-5b3748f6d437",
   "metadata": {},
   "outputs": [],
   "source": [
    "Q4  - Write a code to convert the string \"hello\" to uppercase?\n",
    "     text = \"hello\"\n",
    "     uppercase_text = text.upper()\n",
    "     print(\"Original string:\", text)\n",
    "     print(\"Uppercase string:\", uppercase_text)\n",
    "     "
   ]
  },
  {
   "cell_type": "code",
   "execution_count": null,
   "id": "32cbcba9-dd68-4a1b-8b7e-62f54f59e286",
   "metadata": {},
   "outputs": [],
   "source": [
    "Q5  - Write a code to replace the word \"apple\" with \"orange\" in the string \"I like apple\"?\n",
    "      string = \"I like apple\"\n",
    "      new_string = string.replace(\"apple\", \"orange\")\n",
    "      print(\"The new string is:\", new_string)   \n",
    "      #OUT- The new string is: I like orange    "
   ]
  },
  {
   "cell_type": "code",
   "execution_count": null,
   "id": "cacf4783-0a1e-42ab-9f6c-decd63d2e0ab",
   "metadata": {},
   "outputs": [],
   "source": [
    "Q6  - Write a code to create a list with numbers 1 to 5 and print it?\n",
    "     numbers = list(range(1, 6))\n",
    "     print(\"List of numbers:\", numbers)"
   ]
  },
  {
   "cell_type": "code",
   "execution_count": null,
   "id": "e371dffb-2562-4975-84bc-94ef20779dbf",
   "metadata": {},
   "outputs": [],
   "source": [
    "Q7  - Write a code to append the number 10 to the list [1, 2, 3, 4]?\n",
    "      Define the list\n",
    "      numbers = [1, 2, 3, 4]\n",
    "      numbers.append(10)\n",
    "      print(\"The updated list is:\", numbers)\n",
    "      #OUT- The updated list is: [1, 2, 3, 4, 10]"
   ]
  },
  {
   "cell_type": "code",
   "execution_count": null,
   "id": "4c557d30-5802-4b0a-b66b-557ef10a8f73",
   "metadata": {},
   "outputs": [],
   "source": [
    "Q8  - Write a code to remove the number 3 from the list [1, 2, 3, 4, 5]?\n",
    "      Define the list\n",
    "      numbers = [1, 2, 3, 4, 5]\n",
    "      numbers.remove(3)\n",
    "      print(\"The updated list is:\", numbers)\n",
    "      #OUT - The updated list is: [1, 2, 4, 5]\n"
   ]
  },
  {
   "cell_type": "code",
   "execution_count": null,
   "id": "8ac9bc97-5dd0-4e75-92cd-34f41a651217",
   "metadata": {},
   "outputs": [],
   "source": [
    "Q9  - Write a code to access the second element in the list ['a', 'b', 'c', 'd']?\n",
    "      letters = ['a', 'b', 'c', 'd']\n",
    "      second_element = letters[1]\n",
    "      print(\"The second element is:\", second_element)"
   ]
  },
  {
   "cell_type": "code",
   "execution_count": null,
   "id": "ef735ad4-821c-4e59-9f98-1d7c425be085",
   "metadata": {},
   "outputs": [],
   "source": [
    "Q10 - Write a code to reverse the list [10, 20, 30, 40, 50].\n",
    "      original_list = [10, 20, 30, 40, 50]\n",
    "      reversed_list = original_list[::-1]\n",
    "      print(\"Original list:\", original_list)\n",
    "      print(\"Reversed list:\", reversed_list)"
   ]
  },
  {
   "cell_type": "code",
   "execution_count": null,
   "id": "a9de409a-4a8a-4c47-8cdd-79abeb5fff93",
   "metadata": {},
   "outputs": [],
   "source": [
    "Q11 - Write a code to create a tuple with the elements 10, 20, 30 and print it.\n",
    "      numbers = (10, 20, 30)\n",
    "      print(\"The tuple is:\", numbers)\n",
    "      The tuple is: (10, 20, 30)\n",
    "\n"
   ]
  },
  {
   "cell_type": "code",
   "execution_count": null,
   "id": "aad9d1a4-cb70-4aaa-a423-be5a194762d4",
   "metadata": {},
   "outputs": [],
   "source": [
    "Q12 - Write a code to access the first element of the tuple ('apple', 'banana', 'cherry')\n",
    "      tuple_data = ('apple', 'banana', 'cherry')\n",
    "      first_element = tuple_data[0]\n",
    "      print(\"Tuple:\", tuple_data)\n",
    "      print(\"First element:\", first_element)"
   ]
  },
  {
   "cell_type": "code",
   "execution_count": null,
   "id": "eea517b1-e574-4d4f-a6c0-08a901e930f5",
   "metadata": {},
   "outputs": [],
   "source": [
    "Q13 - Write a code to count how many times the number 2 appears in the tuple (1, 2, 3, 2, 4, 2).\n",
    "      numbers = (1, 2, 3, 2, 4, 2)\n",
    "      count = numbers.count(2)\n",
    "      print(\"The number 2 appears\", count, \"times in the tuple.\")\n",
    "\n"
   ]
  },
  {
   "cell_type": "code",
   "execution_count": null,
   "id": "e3bd83c6-daa7-4634-99b8-e47ffb2f71ca",
   "metadata": {},
   "outputs": [],
   "source": [
    "Q14 - Write a code to find the index of the element \"cat\" in the tuple ('dog', 'cat', 'rabbit').\n",
    "      tuple_data = ('dog', 'cat', 'rabbit')\n",
    "      index_of_cat = tuple_data.index('cat')\n",
    "      print(\"Tuple:\", tuple_data)\n",
    "      print(\"Index of 'cat':\", index_of_cat)"
   ]
  },
  {
   "cell_type": "code",
   "execution_count": null,
   "id": "993be5e5-8e28-4a41-8659-6f86ad2d6a2f",
   "metadata": {},
   "outputs": [],
   "source": [
    "Q15 - Write a code to check if the element \"banana\" is in the tuple ('apple', 'orange', 'banana').\n",
    "\n",
    "     fruits = ('apple', 'orange', 'banana')\n",
    "     if 'banana' in fruits:\n",
    "     print(\"Yes, 'banana' is in the tuple.\")\n",
    "     else:\n",
    "    print(\"No, 'banana' is not in the tuple.\")\n",
    "\n"
   ]
  },
  {
   "cell_type": "code",
   "execution_count": null,
   "id": "5a35778a-77b7-4b45-bd82-148884487902",
   "metadata": {},
   "outputs": [],
   "source": [
    "Q16 - Write a code to create a set with the elements 1, 2, 3, 4, 5 and print it.\n",
    "     number_set = {1, 2, 3, 4, 5}\n",
    "     print(\"Set of numbers:\", number_set)"
   ]
  },
  {
   "cell_type": "code",
   "execution_count": null,
   "id": "bf7acd2a-b95f-4e0c-9bbd-d05bda6e027e",
   "metadata": {},
   "outputs": [],
   "source": [
    "Q17 -  Write a code to add the element 6 to the set {1, 2, 3, 4}.\n",
    "       numbers = {1, 2, 3, 4}\n",
    "       numbers.add(6)\n",
    "       print(\"The updated set is:\", numbers)\n",
    "\n"
   ]
  },
  {
   "cell_type": "code",
   "execution_count": null,
   "id": "5c3428f1-3612-4879-901d-e2b7fd066541",
   "metadata": {},
   "outputs": [],
   "source": [
    "Q18 - Write a code to create a tuple with the elements 10, 20, 30 and print it?\n",
    "      number_tuple = (10, 20, 30)\n",
    "      print(\"Tuple of numbers:\", number_tuple)"
   ]
  },
  {
   "cell_type": "code",
   "execution_count": null,
   "id": "20efb14f-bf33-4c97-997f-d779add4d3df",
   "metadata": {},
   "outputs": [],
   "source": [
    "Q19 - Write a code to access the first element of the tuple ('apple', 'banana', 'cherry')\n",
    "      fruits = ('apple', 'banana', 'cherry')\n",
    "      first_fruit = fruits[0]\n",
    "      print(\"The first element is:\", first_fruit)\n",
    "      The first element is: apple\n"
   ]
  },
  {
   "cell_type": "code",
   "execution_count": null,
   "id": "b6bf270b-3287-4334-9f2a-61726fc97e3b",
   "metadata": {},
   "outputs": [],
   "source": [
    "Q20 - Write a code to count how many times the number 2 appears in the tuple (1, 2, 3, 2, 4, 2).\n",
    "      numbers = (1, 2, 3, 2, 4, 2)\n",
    "      count = numbers.count(2)\n",
    "      print(\"The number 2 appears\", count, \"times in the tuple.\")\n"
   ]
  },
  {
   "cell_type": "code",
   "execution_count": null,
   "id": "21300e7e-4a8b-4578-a973-7ee47749708d",
   "metadata": {},
   "outputs": [],
   "source": [
    "Q21 - Write a code to find the index of the element \"cat\" in the tuple ('dog', 'cat', 'rabbit').\n",
    "     tuple_data = ('dog', 'cat', 'rabbit')\n",
    "     index_of_cat = tuple_data.index('cat')\n",
    "     print(\"Tuple:\", tuple_data)\n",
    "     print(\"Index of 'cat':\", index_of_cat)"
   ]
  },
  {
   "cell_type": "code",
   "execution_count": null,
   "id": "c8f46f21-3faf-4a95-8ade-8cee7d321cd0",
   "metadata": {},
   "outputs": [],
   "source": [
    "Q22 -  Write a code to check if the element \"banana\" is in the tuple ('apple', 'orange', 'banana').\n",
    "       fruits = ('apple', 'orange', 'banana')\n",
    "       if 'banana' in fruits:\n",
    "       print(\"Yes, 'banana' is in the tuple.\")\n",
    "       else:\n",
    "      print(\"No, 'banana' is not in the tuple.\")\n",
    "\n"
   ]
  },
  {
   "cell_type": "code",
   "execution_count": null,
   "id": "10c28922-2e13-40a5-9ddd-770e9ec45b97",
   "metadata": {},
   "outputs": [],
   "source": [
    "Q23 - Write a code to create a set with the elements 1, 2, 3, 4, 5 and print it\n",
    "      number_set = {1, 2, 3, 4, 5}\n",
    "      print(\"Set of numbers:\", number_set) "
   ]
  },
  {
   "cell_type": "code",
   "execution_count": null,
   "id": "9b614b47-faf1-4cc0-bf08-c6dc0c76e7f6",
   "metadata": {},
   "outputs": [],
   "source": [
    "Q24 - Write a code to add the element 6 to the set {1, 2, 3, 4}.\n",
    "      numbers = {1, 2, 3, 4}\n",
    "      numbers.add(6)\n",
    "      print(\"The updated set is:\", numbers)"
   ]
  },
  {
   "cell_type": "code",
   "execution_count": null,
   "id": "71870cbc-51d8-4046-89b5-df417a3ed105",
   "metadata": {},
   "outputs": [],
   "source": []
  }
 ],
 "metadata": {
  "kernelspec": {
   "display_name": "Python 3 (ipykernel)",
   "language": "python",
   "name": "python3"
  },
  "language_info": {
   "codemirror_mode": {
    "name": "ipython",
    "version": 3
   },
   "file_extension": ".py",
   "mimetype": "text/x-python",
   "name": "python",
   "nbconvert_exporter": "python",
   "pygments_lexer": "ipython3",
   "version": "3.11.7"
  }
 },
 "nbformat": 4,
 "nbformat_minor": 5
}
